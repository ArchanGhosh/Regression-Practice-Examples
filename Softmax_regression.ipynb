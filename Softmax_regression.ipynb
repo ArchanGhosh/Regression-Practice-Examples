{
  "nbformat": 4,
  "nbformat_minor": 0,
  "metadata": {
    "colab": {
      "name": "Softmax_regression.ipynb",
      "provenance": [],
      "machine_shape": "hm",
      "include_colab_link": true
    },
    "kernelspec": {
      "name": "python3",
      "display_name": "Python 3"
    }
  },
  "cells": [
    {
      "cell_type": "markdown",
      "metadata": {
        "id": "view-in-github",
        "colab_type": "text"
      },
      "source": [
        "<a href=\"https://colab.research.google.com/github/ArchanGhosh/Regression-Practice-Examples/blob/master/Softmax_regression.ipynb\" target=\"_parent\"><img src=\"https://colab.research.google.com/assets/colab-badge.svg\" alt=\"Open In Colab\"/></a>"
      ]
    },
    {
      "cell_type": "code",
      "metadata": {
        "id": "5-sEW0H-E4g7",
        "colab_type": "code",
        "outputId": "9d8da2c8-2464-4d08-cf7a-a6d33b76dedd",
        "colab": {
          "base_uri": "https://localhost:8080/",
          "height": 35
        }
      },
      "source": [
        "%tensorflow_version 2.x"
      ],
      "execution_count": 0,
      "outputs": [
        {
          "output_type": "stream",
          "text": [
            "TensorFlow 2.x selected.\n"
          ],
          "name": "stdout"
        }
      ]
    },
    {
      "cell_type": "code",
      "metadata": {
        "id": "pbR4UiTgFB0f",
        "colab_type": "code",
        "colab": {}
      },
      "source": [
        "import tensorflow as tf\n",
        "import numpy as np"
      ],
      "execution_count": 0,
      "outputs": []
    },
    {
      "cell_type": "code",
      "metadata": {
        "id": "q0wejIBmFFs2",
        "colab_type": "code",
        "colab": {}
      },
      "source": [
        "class SoftmaxRegression(object):\n",
        "  def __init__(self, eta=0.1, n_iter=1000):\n",
        "    self.eta=eta\n",
        "    self.n_iter=n_iter\n",
        "\n",
        "  def fit(self, X, y):\n",
        "    m,n=X.shape\n",
        "    epsilon= 1e-7\n",
        "    ones=tf.ones(shape=[m,1])\n",
        "    X= tf.concat([ones, X], axis=1)\n",
        "\n",
        "    #y_one_hot=tf.one_hot(y, (len(y)))\n",
        "\n",
        "    \n",
        "    \n",
        "    self.theta = tf.Variable(tf.random.normal(shape=[n_inputs+1, n_outputs]))\n",
        "    \n",
        "    for i in range(self.n_iter):\n",
        "      logits= X @ self.theta\n",
        "      p_hat=tf.nn.softmax(logits)\n",
        "      gradients = 1 / m * (tf.transpose (X) @ (p_hat - y))\n",
        "      self.theta.assign(self.theta - self.eta * gradients)\n",
        "    return self\n",
        "\n",
        "  def predict(self,X):\n",
        "    m,n=X.shape\n",
        "    ones=tf.ones(shape=[m,1])\n",
        "    X = tf.concat([ones, X], axis=1)\n",
        "    logits= X @ self.theta\n",
        "    p_hat=tf.nn.softmax(logits)\n",
        "    y_predict=np.argmax(p_hat, axis=1)\n",
        "    return y_predict\n",
        "  \n"
      ],
      "execution_count": 0,
      "outputs": []
    },
    {
      "cell_type": "code",
      "metadata": {
        "id": "JDchMJk3F4Dg",
        "colab_type": "code",
        "colab": {}
      },
      "source": [
        "import tensorflow.keras as keras"
      ],
      "execution_count": 0,
      "outputs": []
    },
    {
      "cell_type": "code",
      "metadata": {
        "id": "xbj161Z6G5qn",
        "colab_type": "code",
        "colab": {}
      },
      "source": [
        "from tensorflow.keras.datasets import mnist"
      ],
      "execution_count": 0,
      "outputs": []
    },
    {
      "cell_type": "code",
      "metadata": {
        "id": "MNmu-P9pG6-V",
        "colab_type": "code",
        "colab": {}
      },
      "source": [
        "(X_train, y_train), (X_test, y_test) = mnist.load_data()"
      ],
      "execution_count": 0,
      "outputs": []
    },
    {
      "cell_type": "code",
      "metadata": {
        "id": "ktqJzaPNG8l9",
        "colab_type": "code",
        "outputId": "15fe8eb3-774a-41f0-bf38-a68b51af09c5",
        "colab": {
          "base_uri": "https://localhost:8080/",
          "height": 35
        }
      },
      "source": [
        "X_train.shape"
      ],
      "execution_count": 0,
      "outputs": [
        {
          "output_type": "execute_result",
          "data": {
            "text/plain": [
              "(60000, 28, 28)"
            ]
          },
          "metadata": {
            "tags": []
          },
          "execution_count": 25
        }
      ]
    },
    {
      "cell_type": "code",
      "metadata": {
        "id": "6-Z3GTeZHHsl",
        "colab_type": "code",
        "colab": {}
      },
      "source": [
        "X_train = tf.constant(X_train.reshape(60000, 784), dtype=tf.dtypes.float32)\n",
        "X_test = tf.constant(X_test.reshape(10000,784), dtype=tf.dtypes.float32)"
      ],
      "execution_count": 0,
      "outputs": []
    },
    {
      "cell_type": "code",
      "metadata": {
        "id": "psFHBFe2HJHN",
        "colab_type": "code",
        "outputId": "c1f6fe3a-6548-4a3e-8e0e-f6b1da275eec",
        "colab": {
          "base_uri": "https://localhost:8080/",
          "height": 35
        }
      },
      "source": [
        "y_train\n"
      ],
      "execution_count": 0,
      "outputs": [
        {
          "output_type": "execute_result",
          "data": {
            "text/plain": [
              "array([5, 0, 4, ..., 5, 6, 8], dtype=uint8)"
            ]
          },
          "metadata": {
            "tags": []
          },
          "execution_count": 27
        }
      ]
    },
    {
      "cell_type": "code",
      "metadata": {
        "id": "is4ycv-6bKsF",
        "colab_type": "code",
        "outputId": "131005ad-f951-41d0-e2f1-7a8afc89c144",
        "colab": {
          "base_uri": "https://localhost:8080/",
          "height": 35
        }
      },
      "source": [
        "y_train.shape"
      ],
      "execution_count": 0,
      "outputs": [
        {
          "output_type": "execute_result",
          "data": {
            "text/plain": [
              "(60000,)"
            ]
          },
          "metadata": {
            "tags": []
          },
          "execution_count": 28
        }
      ]
    },
    {
      "cell_type": "code",
      "metadata": {
        "id": "kqVYk9j9bbWV",
        "colab_type": "code",
        "outputId": "f0bc1a11-24c7-467b-e616-b567cee4c526",
        "colab": {
          "base_uri": "https://localhost:8080/",
          "height": 35
        }
      },
      "source": [
        "y_train.shape"
      ],
      "execution_count": 0,
      "outputs": [
        {
          "output_type": "execute_result",
          "data": {
            "text/plain": [
              "(60000,)"
            ]
          },
          "metadata": {
            "tags": []
          },
          "execution_count": 29
        }
      ]
    },
    {
      "cell_type": "code",
      "metadata": {
        "id": "iOR_oluDSvTm",
        "colab_type": "code",
        "outputId": "86678487-7de3-46c6-cd89-2f20cebcae07",
        "colab": {
          "base_uri": "https://localhost:8080/",
          "height": 35
        }
      },
      "source": [
        "y_test.shape"
      ],
      "execution_count": 0,
      "outputs": [
        {
          "output_type": "execute_result",
          "data": {
            "text/plain": [
              "(10000,)"
            ]
          },
          "metadata": {
            "tags": []
          },
          "execution_count": 30
        }
      ]
    },
    {
      "cell_type": "code",
      "metadata": {
        "id": "tk9jhiApbRfC",
        "colab_type": "code",
        "outputId": "ed3adda4-da60-4732-fbc4-8c177c6c7417",
        "colab": {
          "base_uri": "https://localhost:8080/",
          "height": 35
        }
      },
      "source": [
        "n_inputs = X_train.shape[1]\n",
        "n_outputs = len(np.unique(y_train))\n",
        "n_outputs"
      ],
      "execution_count": 0,
      "outputs": [
        {
          "output_type": "execute_result",
          "data": {
            "text/plain": [
              "10"
            ]
          },
          "metadata": {
            "tags": []
          },
          "execution_count": 31
        }
      ]
    },
    {
      "cell_type": "code",
      "metadata": {
        "id": "YBDbtALxZl1-",
        "colab_type": "code",
        "colab": {}
      },
      "source": [
        "y_one_hot=tf.one_hot(y_train,(n_outputs))"
      ],
      "execution_count": 0,
      "outputs": []
    },
    {
      "cell_type": "code",
      "metadata": {
        "id": "esVhOuEaarVY",
        "colab_type": "code",
        "outputId": "398481ec-ad4f-43cc-cde5-efd6b8192d8b",
        "colab": {
          "base_uri": "https://localhost:8080/",
          "height": 163
        }
      },
      "source": [
        "y_one_hot"
      ],
      "execution_count": 0,
      "outputs": [
        {
          "output_type": "execute_result",
          "data": {
            "text/plain": [
              "<tf.Tensor: shape=(60000, 10), dtype=float32, numpy=\n",
              "array([[0., 0., 0., ..., 0., 0., 0.],\n",
              "       [1., 0., 0., ..., 0., 0., 0.],\n",
              "       [0., 0., 0., ..., 0., 0., 0.],\n",
              "       ...,\n",
              "       [0., 0., 0., ..., 0., 0., 0.],\n",
              "       [0., 0., 0., ..., 0., 0., 0.],\n",
              "       [0., 0., 0., ..., 0., 1., 0.]], dtype=float32)>"
            ]
          },
          "metadata": {
            "tags": []
          },
          "execution_count": 33
        }
      ]
    },
    {
      "cell_type": "code",
      "metadata": {
        "id": "EsBKPUxHHSpl",
        "colab_type": "code",
        "colab": {}
      },
      "source": [
        "softmax=SoftmaxRegression()"
      ],
      "execution_count": 0,
      "outputs": []
    },
    {
      "cell_type": "code",
      "metadata": {
        "id": "eYTt24qUSKNA",
        "colab_type": "code",
        "outputId": "2f9c85a3-a6da-44f6-a0df-105e98ca2be9",
        "colab": {
          "base_uri": "https://localhost:8080/",
          "height": 35
        }
      },
      "source": [
        "softmax.fit(X_train,y_one_hot)"
      ],
      "execution_count": 0,
      "outputs": [
        {
          "output_type": "execute_result",
          "data": {
            "text/plain": [
              "<__main__.SoftmaxRegression at 0x7f2249fd4518>"
            ]
          },
          "metadata": {
            "tags": []
          },
          "execution_count": 35
        }
      ]
    },
    {
      "cell_type": "code",
      "metadata": {
        "id": "p8mPuZ-lSUjG",
        "colab_type": "code",
        "colab": {}
      },
      "source": [
        "y_p=softmax.predict(X_test)"
      ],
      "execution_count": 0,
      "outputs": []
    },
    {
      "cell_type": "code",
      "metadata": {
        "id": "QZgTPUwBsraM",
        "colab_type": "code",
        "outputId": "129cfcac-b72c-4ae7-d3c5-6ccdfbff2ba1",
        "colab": {
          "base_uri": "https://localhost:8080/",
          "height": 35
        }
      },
      "source": [
        "y_test"
      ],
      "execution_count": 0,
      "outputs": [
        {
          "output_type": "execute_result",
          "data": {
            "text/plain": [
              "array([7, 2, 1, ..., 4, 5, 6], dtype=uint8)"
            ]
          },
          "metadata": {
            "tags": []
          },
          "execution_count": 37
        }
      ]
    },
    {
      "cell_type": "code",
      "metadata": {
        "id": "yBGWyvxfek6M",
        "colab_type": "code",
        "outputId": "3992cb93-c5ee-4570-e74f-7dbf597a76a9",
        "colab": {
          "base_uri": "https://localhost:8080/",
          "height": 35
        }
      },
      "source": [
        "accuracy_score = np.mean(y_p == y_test)\n",
        "accuracy_score"
      ],
      "execution_count": 0,
      "outputs": [
        {
          "output_type": "execute_result",
          "data": {
            "text/plain": [
              "0.9158"
            ]
          },
          "metadata": {
            "tags": []
          },
          "execution_count": 38
        }
      ]
    },
    {
      "cell_type": "code",
      "metadata": {
        "id": "UeKqQ9LRe-bu",
        "colab_type": "code",
        "colab": {}
      },
      "source": [
        ""
      ],
      "execution_count": 0,
      "outputs": []
    }
  ]
}